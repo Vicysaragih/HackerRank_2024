{
  "nbformat": 4,
  "nbformat_minor": 0,
  "metadata": {
    "colab": {
      "provenance": [],
      "authorship_tag": "ABX9TyPHqoeZ5kq3ZNDaFiMVOhbp",
      "include_colab_link": true
    },
    "kernelspec": {
      "name": "python3",
      "display_name": "Python 3"
    },
    "language_info": {
      "name": "python"
    }
  },
  "cells": [
    {
      "cell_type": "markdown",
      "metadata": {
        "id": "view-in-github",
        "colab_type": "text"
      },
      "source": [
        "<a href=\"https://colab.research.google.com/github/Vicysaragih/HackerRank_2024/blob/main/HackeRank_Python_Basic_Introduction_Update_29_Juni_2024.ipynb\" target=\"_parent\"><img src=\"https://colab.research.google.com/assets/colab-badge.svg\" alt=\"Open In Colab\"/></a>"
      ]
    },
    {
      "cell_type": "markdown",
      "source": [
        "**1. IF Else**\n",
        "\n",
        "Given an integer, , perform the following conditional actions:\n",
        "\n",
        "1. If  is odd, print Weird\n",
        "2. If  is even and in the inclusive range of  to , print Not Weird\n",
        "3. If  is even and in the inclusive range of  to , print Weird\n",
        "4. If  is even and greater than , print Not Weird"
      ],
      "metadata": {
        "id": "CowG0Tdm6kY3"
      }
    },
    {
      "cell_type": "code",
      "execution_count": null,
      "metadata": {
        "colab": {
          "base_uri": "https://localhost:8080/"
        },
        "id": "zeKEx25S6iYv",
        "outputId": "79b29165-0cdd-4f90-e723-c7d5bc7890bc"
      },
      "outputs": [
        {
          "output_type": "stream",
          "name": "stdout",
          "text": [
            "15\n",
            "Weird\n"
          ]
        }
      ],
      "source": [
        "n = int(input().strip())\n",
        "if n%2!=0: #If  is odd, print Weird\n",
        "    print(\"Weird\")\n",
        "else:\n",
        "    if n >= 2 and n <=5: # If  is even and in the inclusive range of  to , print Not Weird\n",
        "        print(\"Not Weird\")\n",
        "    elif n >= 6 and n <=20:  # If  is even and in the inclusive range of  to , print Weird\n",
        "        print(\"Weird\")\n",
        "    elif n >=20:  # If  is even and greater than , print Not Weird\n",
        "        print(\"Not Weird\")"
      ]
    },
    {
      "cell_type": "code",
      "source": [
        "# Python If-Else\n",
        "\n",
        "Nilai = int(input(\"Masukan nilai: \").strip())\n",
        "\n",
        "if Nilai %2 != 0:\n",
        "  print(\"Weird\")\n",
        "else :\n",
        "    if Nilai >=2 and Nilai <=5:\n",
        "      print (\"Not Weird\")\n",
        "    elif Nilai >= 6 and Nilai <= 20:\n",
        "      print(\"Weird\")\n",
        "    elif Nilai >= 20:\n",
        "      print(\"Weird\")"
      ],
      "metadata": {
        "colab": {
          "base_uri": "https://localhost:8080/"
        },
        "id": "fAgOijzrzQGG",
        "outputId": "1db3825e-1604-43c8-9bef-936170a76bf5"
      },
      "execution_count": null,
      "outputs": [
        {
          "output_type": "stream",
          "name": "stdout",
          "text": [
            "Masukan nilai: 14\n",
            "Weird\n"
          ]
        }
      ]
    },
    {
      "cell_type": "code",
      "source": [
        "Nilai = int(input(\"Masukan nilai: \").strip())\n",
        "\n",
        "if Nilai %2 != 0:\n",
        "  print(\"Weird\")\n",
        "elif Nilai >=2 and Nilai <=5:\n",
        "  print(\"Not Weird\")\n",
        "elif Nilai >= 6 and Nilai <= 20:\n",
        "  print(\"Weird\")\n",
        "else:\n",
        "      print(\"Weird\")"
      ],
      "metadata": {
        "colab": {
          "base_uri": "https://localhost:8080/"
        },
        "id": "LqCaeMXU0UNE",
        "outputId": "437c5e13-028e-4654-da3d-d75bb81e67d3"
      },
      "execution_count": null,
      "outputs": [
        {
          "output_type": "stream",
          "name": "stdout",
          "text": [
            "Masukan nilai: 4\n",
            "Not Weird\n"
          ]
        }
      ]
    },
    {
      "cell_type": "markdown",
      "source": [
        "**2. Arithmetic Operators**\n",
        "\n",
        "The provided code stub reads two integers from STDIN,  and . Add code to print three lines where:\n",
        "\n",
        "1. The first line contains the sum of the two numbers.\n",
        "2. The second line contains the difference of the two numbers (first - second).\n",
        "3. The third line contains the product of the two numbers."
      ],
      "metadata": {
        "id": "beBeBf6lLh5y"
      }
    },
    {
      "cell_type": "code",
      "source": [
        "    print(\"Masukan Input:\")\n",
        "    a = int(input())\n",
        "    b = int(input())\n",
        "    print(\"a + b :\", a + b )\n",
        "    print(\"a - b :\", a - b)\n",
        "    print(\"a * b :\", a * b)"
      ],
      "metadata": {
        "colab": {
          "base_uri": "https://localhost:8080/"
        },
        "id": "NlP13hcmLx8z",
        "outputId": "17a72f29-334d-49fe-9d49-d16750bcbac4"
      },
      "execution_count": null,
      "outputs": [
        {
          "output_type": "stream",
          "name": "stdout",
          "text": [
            "Masukan Input:\n",
            "5\n",
            "3\n",
            "a + b : 8\n",
            "a - b : 2\n",
            "a * b : 15\n"
          ]
        }
      ]
    },
    {
      "cell_type": "markdown",
      "source": [
        "**3. Division**\n",
        "\n",
        "Task\n",
        "The provided code stub reads two integers,  and , from STDIN.\n",
        "\n",
        "Add logic to print two lines. The first line should contain the result of integer division,  // . The second line should contain the result of float division,  / .\n",
        "\n",
        "No rounding or formatting is necessary."
      ],
      "metadata": {
        "id": "2-zPIlUwkJ-b"
      }
    },
    {
      "cell_type": "code",
      "source": [
        "    print (\"Masukan input :\")\n",
        "    a = int(input())\n",
        "    b = int(input())\n",
        "    print(\"Hasil :\")\n",
        "\n",
        "    print( a // b)\n",
        "    print(a / b)"
      ],
      "metadata": {
        "id": "xDGh5lQrMMZ4",
        "colab": {
          "base_uri": "https://localhost:8080/"
        },
        "outputId": "42491a4c-5c37-4622-e87a-891451db76f4"
      },
      "execution_count": null,
      "outputs": [
        {
          "output_type": "stream",
          "name": "stdout",
          "text": [
            "Masukan input :\n",
            "5\n",
            "2\n",
            "Hasil :\n",
            "2\n",
            "2.5\n"
          ]
        }
      ]
    },
    {
      "cell_type": "markdown",
      "source": [
        "**4. Loops**\n",
        "\n",
        "For all non-negative integer i < n, print i*2"
      ],
      "metadata": {
        "id": "qnf0MFOAYicA"
      }
    },
    {
      "cell_type": "code",
      "source": [
        "n = int(input(\"Masukan input : \"))\n",
        "\n",
        "awal = 0\n",
        "for i in range (awal, n,):\n",
        "  print(i*i)\n"
      ],
      "metadata": {
        "colab": {
          "base_uri": "https://localhost:8080/"
        },
        "id": "VjhwrACBYkw_",
        "outputId": "05d0aacb-1248-4ddb-dd03-c570121afdc6"
      },
      "execution_count": null,
      "outputs": [
        {
          "output_type": "stream",
          "name": "stdout",
          "text": [
            "Masukan input : 3\n",
            "0\n",
            "1\n",
            "4\n"
          ]
        }
      ]
    },
    {
      "cell_type": "markdown",
      "source": [
        "**Print Function**\n",
        "\n",
        "input : 5\n",
        "\n",
        "output : 12345"
      ],
      "metadata": {
        "id": "uYKHt4zYNa8D"
      }
    },
    {
      "cell_type": "code",
      "source": [
        "print(\"Masukan Nilai Input: \")\n",
        "n = int(input())\n",
        "print(\"\\nOutput: \",*range(1, n+1), sep=\"\") # *=All value in the range"
      ],
      "metadata": {
        "colab": {
          "base_uri": "https://localhost:8080/"
        },
        "id": "J3v4KWjnNIIB",
        "outputId": "d261471d-d90e-49ae-fa1f-40e8bdc1109c"
      },
      "execution_count": null,
      "outputs": [
        {
          "output_type": "stream",
          "name": "stdout",
          "text": [
            "Masukan Nilai Input: \n",
            "5\n",
            "\n",
            "Output: 12345\n"
          ]
        }
      ]
    },
    {
      "cell_type": "code",
      "source": [
        "print(\"Masukan Nilai Input: \")\n",
        "n = int(input())\n",
        "print(\"\\nOutput: \",range(1, n+1), sep=\"\")"
      ],
      "metadata": {
        "colab": {
          "base_uri": "https://localhost:8080/"
        },
        "id": "3o9WhvOWOut9",
        "outputId": "ff128d82-d1cf-4093-f898-be8408365738"
      },
      "execution_count": null,
      "outputs": [
        {
          "output_type": "stream",
          "name": "stdout",
          "text": [
            "Masukan Nilai Input: \n",
            "5\n",
            "\n",
            "Output: range(1, 6)\n"
          ]
        }
      ]
    }
  ]
}